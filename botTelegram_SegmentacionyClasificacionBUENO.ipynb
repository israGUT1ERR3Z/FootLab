{
  "nbformat": 4,
  "nbformat_minor": 0,
  "metadata": {
    "colab": {
      "provenance": [],
      "gpuType": "T4",
      "include_colab_link": true
    },
    "kernelspec": {
      "name": "python3",
      "display_name": "Python 3"
    },
    "language_info": {
      "name": "python"
    },
    "accelerator": "GPU"
  },
  "cells": [
    {
      "cell_type": "markdown",
      "metadata": {
        "id": "view-in-github",
        "colab_type": "text"
      },
      "source": [
        "<a href=\"https://colab.research.google.com/github/israGUT1ERR3Z/FootLab/blob/main/botTelegram_SegmentacionyClasificacionBUENO.ipynb\" target=\"_parent\"><img src=\"https://colab.research.google.com/assets/colab-badge.svg\" alt=\"Open In Colab\"/></a>"
      ]
    },
    {
      "cell_type": "code",
      "source": [
        "pip install pytelegrambotapi"
      ],
      "metadata": {
        "colab": {
          "base_uri": "https://localhost:8080/"
        },
        "id": "vyQtc_ZsG7Ee",
        "outputId": "cd3a2efc-6680-4856-e90e-a878eaf192ff"
      },
      "execution_count": null,
      "outputs": [
        {
          "output_type": "stream",
          "name": "stdout",
          "text": [
            "Requirement already satisfied: pytelegrambotapi in /usr/local/lib/python3.10/dist-packages (4.20.0)\n",
            "Requirement already satisfied: requests in /usr/local/lib/python3.10/dist-packages (from pytelegrambotapi) (2.31.0)\n",
            "Requirement already satisfied: charset-normalizer<4,>=2 in /usr/local/lib/python3.10/dist-packages (from requests->pytelegrambotapi) (3.3.2)\n",
            "Requirement already satisfied: idna<4,>=2.5 in /usr/local/lib/python3.10/dist-packages (from requests->pytelegrambotapi) (3.7)\n",
            "Requirement already satisfied: urllib3<3,>=1.21.1 in /usr/local/lib/python3.10/dist-packages (from requests->pytelegrambotapi) (2.0.7)\n",
            "Requirement already satisfied: certifi>=2017.4.17 in /usr/local/lib/python3.10/dist-packages (from requests->pytelegrambotapi) (2024.6.2)\n"
          ]
        }
      ]
    },
    {
      "cell_type": "code",
      "execution_count": null,
      "metadata": {
        "id": "aTm3E6EfGtST"
      },
      "outputs": [],
      "source": [
        "import telebot, imageio, requests, threading, torch, cv2, helper #, time\n",
        "\n",
        "from PIL import Image\n",
        "from io import BytesIO\n",
        "from sklearn.model_selection import train_test_split #Paqueterias para entrenamiento de modelos\n",
        "from tqdm import tqdm\n",
        "\n",
        "import numpy as np #Nos ofrece funciones matematicas\n",
        "import pandas as pd #Libreria especializada en el analisis y manipulación de datos\n",
        "import matplotlib.pyplot as plt  #Visualización de las imagenes\n",
        "import albumentations as A\n",
        "import numpy as np\n"
      ]
    },
    {
      "cell_type": "markdown",
      "source": [
        "###Cargar el modelo ZIP y el TOKEN del bot"
      ],
      "metadata": {
        "id": "nJv2-TB-0OFz"
      }
    },
    {
      "cell_type": "code",
      "source": [
        "loaded_model = torch.jit.load('model.zip')\n",
        "TOKEN = \"6699114144:AAG0lOR47iOi098QgSLQezHI_FcH02msZZo\"   # Este es para comunicarse con el bot"
      ],
      "metadata": {
        "id": "hJxd59DzG0Ar"
      },
      "execution_count": null,
      "outputs": []
    },
    {
      "cell_type": "markdown",
      "source": [
        "## Código del modelo"
      ],
      "metadata": {
        "id": "Ok_sHAeR1UoS"
      }
    },
    {
      "cell_type": "markdown",
      "source": [
        "Clases del preprocesamiento y postprocesamiento del modelo"
      ],
      "metadata": {
        "id": "iRvvXDU31A16"
      }
    },
    {
      "cell_type": "code",
      "source": [
        "class Preprocessing():\n",
        "  def __init__(self): #Comenzamos con la función de inicialización de datos\n",
        "    super().__init__()\n",
        "    #self.file_paths = file_paths\n",
        "\n",
        "    self.augmentations = A.Compose([\n",
        "        A.Resize(320, 320)\n",
        "        ])\n",
        "\n",
        "  # def __len__(self): #Longitud de datos para cada set\n",
        "  #   return len(self.file_paths)\n",
        "\n",
        "  def __getitem__(self,imagen): #Selección de cada dato\n",
        "\n",
        "    # file_path = self.file_paths[idx] #Seleccionamos la columna de la base\n",
        "\n",
        "\n",
        "\n",
        "    image = cv2.cvtColor(imagen, cv2.COLOR_BGR2RGB) #Pasamos al canal RGB\n",
        "\n",
        "\n",
        "\n",
        "    if self.augmentations: #Funciones para la visión artificial\n",
        "      data = self.augmentations(image = image)\n",
        "      image = data['image'] #Selección de la imagen a partir de los datos desplegados anteriormente\n",
        "\n",
        "    image = np.transpose(image, (2,0,1)).astype(np.float32) #Ajustamos las caracteristicas de la imagen\n",
        "    image = torch.Tensor(image) / 255.0 #Usamos torch para la definición de la arquitectura\n",
        "\n",
        "\n",
        "    return  image"
      ],
      "metadata": {
        "id": "AkTjdIfT0t-Z"
      },
      "execution_count": null,
      "outputs": []
    },
    {
      "cell_type": "code",
      "source": [
        "class Postprocessing():\n",
        "  def __init__(self): #Comenzamos con la función de inicialización de datos\n",
        "    #self.logits_mask = logits_mask\n",
        "    #self.image = image\n",
        "    super().__init__()\n",
        "\n",
        "  def postprocess(self, logits_mask, image):\n",
        "    pred_mask = torch.sigmoid(logits_mask)\n",
        "    pred_mask = (pred_mask > 0.9)*1.0\n",
        "    pred_mask = pred_mask.cpu().squeeze(0).squeeze(0).T\n",
        "\n",
        "    x = image.T\n",
        "    #ymul = pred_mask.unsqueeze(2)\n",
        "    y=pred_mask\n",
        "    #z = np.multiply(x, ymul)\n",
        "    #return z.numpy()\n",
        "    return y.numpy()\n",
        "\n",
        "  def postprocessmul(self, logits_mask, image):\n",
        "    pred_mask = torch.sigmoid(logits_mask)\n",
        "    pred_mask = (pred_mask > 0.9)*1.0\n",
        "    pred_mask = pred_mask.cpu().squeeze(0).squeeze(0).T\n",
        "\n",
        "    x = image.T\n",
        "    ymul = pred_mask.unsqueeze(2)\n",
        "    y=pred_mask    ### --- MDF\n",
        "    z = np.multiply(x, ymul)\n",
        "    #return z.numpy()\n",
        "    return  y.numpy(), z.numpy()    ### ---- MDF"
      ],
      "metadata": {
        "id": "LU0aqbyt1MMi"
      },
      "execution_count": null,
      "outputs": []
    },
    {
      "cell_type": "code",
      "source": [
        "albumentations_dataset = Preprocessing()"
      ],
      "metadata": {
        "id": "qxeuU6ll12As"
      },
      "execution_count": null,
      "outputs": []
    },
    {
      "cell_type": "code",
      "source": [
        "def segmentar(imp):\n",
        "  \"\"\"esta función recibe la imagen y la regresa segmentada\"\"\"\n",
        "  imagencul=albumentations_dataset.__getitem__(imp)\n",
        "  logits_mask = loaded_model(imagencul.unsqueeze(0)) ########\n",
        "  imagencul_post = Postprocessing()\n",
        "\n",
        "  y, x=imagencul_post.postprocessmul(logits_mask,imagencul)   ### --- MDF\n",
        "\n",
        "  imagen = Image.fromarray((x*255).astype('uint8'))\n",
        "  imagen = imagen.transpose(Image.FLIP_LEFT_RIGHT)\n",
        "  imagen = imagen.transpose(Image.Transpose.ROTATE_90)\n",
        "\n",
        "  mascara = Image.fromarray((y*255).astype('uint8'))    #\n",
        "  mascara = mascara.transpose(Image.FLIP_LEFT_RIGHT)        # --- MDF\n",
        "  mascara = mascara.transpose(Image.Transpose.ROTATE_90)  #\n",
        "\n",
        "  return imagen, mascara    #### MDF"
      ],
      "metadata": {
        "id": "C7wNMrLf4Zt7"
      },
      "execution_count": null,
      "outputs": []
    },
    {
      "cell_type": "markdown",
      "source": [
        "El otro modelo:"
      ],
      "metadata": {
        "id": "tW7RuDij1Gio"
      }
    },
    {
      "cell_type": "code",
      "source": [
        "import joblib\n",
        "import numpy as np\n",
        "from matplotlib import pyplot as plt"
      ],
      "metadata": {
        "id": "NnMVY3qTNe6F"
      },
      "execution_count": null,
      "outputs": []
    },
    {
      "cell_type": "code",
      "source": [
        "bkm = joblib.load('regression.joblib') # Carga del modelo.    ### Este se comenta MDF"
      ],
      "metadata": {
        "id": "CrWMV_6-NhvL"
      },
      "execution_count": null,
      "outputs": []
    },
    {
      "cell_type": "code",
      "source": [
        "def getlabelimg(msked_img, msk, model):\n",
        "    flat_img=flatten_img(msked_img)\n",
        "    ypred = model.predict(flat_img).astype(float)\n",
        "    img_pred = ypred.reshape([msked_img.shape[0],msked_img.shape[1]])\n",
        "    if len(msk.shape)==3:\n",
        "        msk = msk[:,:,0]\n",
        "        msk = msk==0\n",
        "    img_pred[msk] = np.nan\n",
        "    return img_pred\n",
        "\n"
      ],
      "metadata": {
        "id": "_udI5RfDNoku"
      },
      "execution_count": null,
      "outputs": []
    },
    {
      "cell_type": "code",
      "source": [
        "def drop_background(msked_img): #without background\n",
        "    masked_flat_img = flatten_img(msked_img)\n",
        "    region_msk = (masked_flat_img == masked_flat_img[0]).sum(axis=1) == 3\n",
        "    masked_flat_img[region_msk]=np.nan\n",
        "    masked_img=masked_flat_img.reshape([msked_img.shape[0],msked_img.shape[1],3])\n",
        "    return masked_img"
      ],
      "metadata": {
        "id": "7g3x8l3QNrms"
      },
      "execution_count": null,
      "outputs": []
    },
    {
      "cell_type": "code",
      "source": [
        "def flatten_img(masked_img):\n",
        "    img_flat = masked_img.reshape([masked_img.shape[0]*masked_img.shape[1],3])\n",
        "    img_flat = img_flat.astype(np.float64)\n",
        "    img_flat = img_flat[~np.isnan(img_flat[:,0])]\n",
        "    return img_flat"
      ],
      "metadata": {
        "id": "28Prb7B9Ntn-"
      },
      "execution_count": null,
      "outputs": []
    },
    {
      "cell_type": "code",
      "source": [
        "from matplotlib import cm\n",
        "color = cm.get_cmap('jet',3)"
      ],
      "metadata": {
        "id": "_QU19wU3N3SQ",
        "colab": {
          "base_uri": "https://localhost:8080/"
        },
        "outputId": "fd79e48d-7aa2-4327-c1fb-be4f5990ae5e"
      },
      "execution_count": null,
      "outputs": [
        {
          "output_type": "stream",
          "name": "stderr",
          "text": [
            "<ipython-input-19-b4eb7a50bd55>:2: MatplotlibDeprecationWarning: The get_cmap function was deprecated in Matplotlib 3.7 and will be removed two minor releases later. Use ``matplotlib.colormaps[name]`` or ``matplotlib.colormaps.get_cmap(obj)`` instead.\n",
            "  color = cm.get_cmap('jet',3)\n"
          ]
        }
      ]
    },
    {
      "cell_type": "code",
      "source": [],
      "metadata": {
        "id": "AfPGHP_wRFYr"
      },
      "execution_count": null,
      "outputs": []
    },
    {
      "cell_type": "markdown",
      "source": [
        "----------"
      ],
      "metadata": {
        "id": "jAqCMSQr1LKj"
      }
    },
    {
      "cell_type": "markdown",
      "source": [
        "## Código del bot"
      ],
      "metadata": {
        "id": "611EGVUO0w7a"
      }
    },
    {
      "cell_type": "code",
      "source": [
        "bot = telebot.TeleBot(TOKEN)  # instanciamos el bot"
      ],
      "metadata": {
        "id": "BEOsqn6uHDf6"
      },
      "execution_count": null,
      "outputs": []
    },
    {
      "cell_type": "code",
      "source": [
        "# Para que responda al comando: /start y /ayuda    (esto solo es prueba y por si es útil después)\n",
        "@bot.message_handler(commands=[\"start\"])   # para /start\n",
        "def bienvenida_start(message):\n",
        "    \"\"\"Da la bienvenida al usuario del bot\"\"\"\n",
        "    bot.reply_to(message, \"Bienvenido/a, envía tu primer imagen para procesarla:\")\n",
        "#     print(dir(message))  (Para ver los atributos de message)\n",
        "\n",
        "@bot.message_handler(commands=[\"ayuda\"])    # para /ayuda\n",
        "def mensaje_ayuda(message):\n",
        "    \"\"\"Da un mensaje de sección de ayuda\"\"\"\n",
        "    bot.reply_to(message, \"Esta es la sección de ayuda\")"
      ],
      "metadata": {
        "id": "lm_tS1WzHM6v"
      },
      "execution_count": null,
      "outputs": []
    },
    {
      "cell_type": "code",
      "source": [
        "# Para responder a otras cosas (en este caso solo para texto y fotos):\n",
        "\n",
        "@bot.message_handler(content_types=[\"text\", \"photo\"])  # para otras cosas, se agrega la otra cosa (audio, video, etc.) y se modifica el código\n",
        "def bot_mensajes_texto(message):\n",
        "    \"\"\"Gestiona los mensajes de texto\"\"\"\n",
        "    if message.text and message.text.startswith(\"/\"):  # en caso de que empiece como comando o no haya texto en el mensaje ( que sea un archivo u otra cosa que no sea imagen)\n",
        "        bot.send_message(message.chat.id, \"Comando no disponible\")\n",
        "    else:\n",
        "        foto_id = message.photo[-1].file_id # id de la imagen original\n",
        "        foto_info = bot.get_file(foto_id)  # obtenemos más info de la imagen\n",
        "        foto_path = foto_info.file_path # obtenemos el path de la imagen\n",
        "        image_url = f'https://api.telegram.org/file/bot{TOKEN}/{foto_path}'   # URL completo de la imagen\n",
        "\n",
        "        try:\n",
        "            response = requests.get(image_url)\n",
        "            response.raise_for_status()  # Verifica si la solicitud fue exitosa\n",
        "            imagen = Image.open(BytesIO(response.content))   # Lee la imagen desde response y la convierte a un objeto Image\n",
        "            bot.send_chat_action(message.chat.id, \"upload_photo\")\n",
        "          ### Modificamos la imagen -----\n",
        "            #img = np.array(imagen) # Aquí la convertimos a array por si así la toma el modelo:\n",
        "            img =cv2.cvtColor(np.array(imagen), cv2.COLOR_RGB2BGR)\n",
        "\n",
        "            imagen_segmentada, mascara0 = segmentar(img)  ### --- MDF\n",
        "\n",
        "            mascara0.save(\"mascara0.png\")   ### --- MDF\n",
        "\n",
        "            #print(np.array(img))\n",
        "            #imagen_modificada = imagen.transpose(Image.Transpose.ROTATE_90) # Transponemos la imagen 90 grados.\n",
        "          ### --------------------------\n",
        "\n",
        "        ## Guardamos la imagen modificada:\n",
        "            imagen_segmentada.save(\"segmented_image.png\")\n",
        "\n",
        "            # ======= MDF --- Voy a volver a cargar las imágenes como array:\n",
        "\n",
        "            img_seg = plt.imread(\"segmented_image.png\")   ### --- MDF\n",
        "            # mask_0 = plt.imread(\"mascara0.png\")   ### --- MDF\n",
        "\n",
        "            msk3=cv2.imread(\"mascara0.png\",cv2.IMREAD_GRAYSCALE) ### --- MDF\n",
        "            cimage=cv2.cvtColor(msk3,cv2.COLOR_GRAY2BGR) ### --- MDF\n",
        "\n",
        "            img_clasificada = getlabelimg(img_seg,cimage,bkm) ### --- MDF\n",
        "\n",
        "            plt.title('Clasificación por tejidos')\n",
        "            plt.imshow(img_clasificada,cmap=color, vmin=0, vmax=2)\n",
        "            plt.colorbar(ticks=[])\n",
        "            # plt.xlim(0,70)\n",
        "            # plt.ylim(0,90)\n",
        "            plt.xticks(range(0,100,100))\n",
        "            plt.yticks(range(0,100,100))\n",
        "            plt.savefig(\"clasif.png\")\n",
        "            # plt.show()\n",
        "\n",
        "            # ========  MDF -------\n",
        "\n",
        "\n",
        "        # Devolvemos la imagen:\n",
        "            with open(\"segmented_image.png\", \"rb\") as photo:\n",
        "            #with open(\"clasif.png\", \"rb\") as photo:\n",
        "                bot.send_photo(message.chat.id, photo, caption = \"Esta es la imagen *segmentada*\", parse_mode = \"MarkdownV2\")\n",
        "\n",
        "        #### --- MDF ---\n",
        "            with open(\"clasif.png\", \"rb\") as photo:\n",
        "                bot.send_photo(message.chat.id, photo, caption = \"Esta es la imagen *clasificada* donde los tejidos son Rojo epitelial, Verde esfacelar y Azul necrosado\", parse_mode = \"MarkdownV2\")\n",
        "        ### -- MDF ..\n",
        "\n",
        "        except:\n",
        "            print(\"Error al obtener la imagen desde la URL\")\n",
        "            bot.send_message(message.chat.id, \"Hubo un error al obtener la imagen desde la URL.\")\n",
        "\n"
      ],
      "metadata": {
        "id": "lfTns3FqHY_j"
      },
      "execution_count": null,
      "outputs": []
    },
    {
      "cell_type": "code",
      "source": [
        "def recibir_mensajes():    # Esta función es solo para hacer el hilo.\n",
        "  \"\"\"Bucle infinito que comprueba si hay nuevos mensajes en el bot\"\"\"\n",
        "  bot.infinity_polling()"
      ],
      "metadata": {
        "id": "Ckh9rfvqL1tt"
      },
      "execution_count": null,
      "outputs": []
    },
    {
      "cell_type": "markdown",
      "source": [
        "## Código que corre el bot"
      ],
      "metadata": {
        "id": "t3JFagaG1n7H"
      }
    },
    {
      "cell_type": "markdown",
      "source": [
        "Corremos la siguiente celda para que entre en el bucle:\n",
        "(Hay que reiniciar el kernel para volver a correrlo)"
      ],
      "metadata": {
        "id": "I3PegNpcJBCJ"
      }
    },
    {
      "cell_type": "code",
      "source": [
        "# MAIN code-------------------\n",
        "if __name__ == '__main__':\n",
        "    print('Iniciando el bot ...')\n",
        "    hilo_bot = threading.Thread(name=\"hilo_bot\", target = recibir_mensajes)\n",
        "    hilo_bot.start()\n",
        "    print('Bot iniciado, el bot está funcionando')"
      ],
      "metadata": {
        "colab": {
          "base_uri": "https://localhost:8080/"
        },
        "id": "NTfzoeXxI9Co",
        "outputId": "0da1dd6e-fbfa-4753-8e5e-488dc98e4968"
      },
      "execution_count": null,
      "outputs": [
        {
          "output_type": "stream",
          "name": "stdout",
          "text": [
            "Iniciando el bot ...\n",
            "Bot iniciado, el bot está funcionando\n"
          ]
        }
      ]
    },
    {
      "cell_type": "code",
      "source": [],
      "metadata": {
        "id": "CjizW5tGMAod"
      },
      "execution_count": null,
      "outputs": []
    }
  ]
}